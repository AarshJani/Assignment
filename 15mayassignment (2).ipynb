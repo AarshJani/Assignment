{
 "cells": [
  {
   "cell_type": "markdown",
   "id": "d94e8be5-2bd8-44e3-9aa7-92f9f55e4959",
   "metadata": {},
   "source": [
    "Q1. How do you comment code in Python? What are the different types of comments?"
   ]
  },
  {
   "cell_type": "code",
   "execution_count": 19,
   "id": "8adf7320-b84f-4911-a799-cd382be54d1b",
   "metadata": {},
   "outputs": [],
   "source": [
    "#In Python, we can comment code using the '#' symbol to indicate a single-line comment or using triple quotes (\"\"\" or ''') to indicate a multi-line comment.\n",
    "#There are two types of comments single line and multi line comment."
   ]
  },
  {
   "cell_type": "markdown",
   "id": "6c267724-27e8-4c7f-a3cd-2e7eebfb92fb",
   "metadata": {},
   "source": [
    "Q2. What are variables in Python? How do you declare and assign values to variables?"
   ]
  },
  {
   "cell_type": "code",
   "execution_count": null,
   "id": "c05582bf-db4a-4f33-a0e5-1897d8a12c82",
   "metadata": {},
   "outputs": [],
   "source": [
    "#Variables are used to store and reference data. A variable is essentially a named container that holds a value, which can be of any data type.\n",
    "#To declare and assign values to a variable we can use this syntax\n",
    "variable_name = value \n"
   ]
  },
  {
   "cell_type": "markdown",
   "id": "973bb203-4934-462d-a4fe-bd6d308a8d63",
   "metadata": {},
   "source": [
    "Q3. How do you convert one data type to another in Python?"
   ]
  },
  {
   "cell_type": "code",
   "execution_count": 6,
   "id": "0391ed36-ae7e-4943-8be2-710fcf923c47",
   "metadata": {},
   "outputs": [
    {
     "name": "stdout",
     "output_type": "stream",
     "text": [
      "10\n",
      "5.0\n",
      "15\n",
      "False\n",
      "[1, 2, 3]\n",
      "(4, 5, 6)\n",
      "{1, 2, 3, 4, 5}\n",
      "25\n",
      "10\n"
     ]
    }
   ],
   "source": [
    "#In Python, you can convert one data type to another using built-in functions or constructors specifically designed for type conversion.\n",
    "# Converting to integer\n",
    "num_str = \"10\"\n",
    "num_int = int(num_str)\n",
    "print(num_int)  # Output: 10\n",
    "\n",
    "# Converting to float\n",
    "num_int = 5\n",
    "num_float = float(num_int)\n",
    "print(num_float)  # Output: 5.0\n",
    "\n",
    "# Converting to string\n",
    "num_int = 15\n",
    "num_str = str(num_int)\n",
    "print(num_str)  # Output: \"15\"\n",
    "\n",
    "# Converting to boolean\n",
    "num_int = 0\n",
    "num_bool = bool(num_int)\n",
    "print(num_bool)  # Output: False\n",
    "\n",
    "# Converting to list\n",
    "my_tuple = (1, 2, 3)\n",
    "my_list = list(my_tuple)\n",
    "print(my_list)  # Output: [1, 2, 3]\n",
    "\n",
    "# Converting to tuple\n",
    "my_list = [4, 5, 6]\n",
    "my_tuple = tuple(my_list)\n",
    "print(my_tuple)  # Output: (4, 5, 6)\n",
    "\n",
    "# Converting to set\n",
    "my_list = [1, 2, 2, 3, 4, 4, 5]\n",
    "my_set = set(my_list)\n",
    "print(my_set)  # Output: {1, 2, 3, 4, 5}\n",
    "\n",
    "# Converting to string\n",
    "num_int = 25\n",
    "num_str = str(num_int)\n",
    "print(num_str)  # Output: \"25\"\n",
    "\n",
    "# Converting to integer\n",
    "num_str = \"10\"\n",
    "num_int = int(num_str)\n",
    "print(num_int)  # Output: 10\n",
    "\n",
    "\n"
   ]
  },
  {
   "cell_type": "markdown",
   "id": "2ac49e58-642e-49f8-8367-96f7d37c9d86",
   "metadata": {},
   "source": [
    "Q4. How do you write and execute a Python script from the command line?"
   ]
  },
  {
   "cell_type": "raw",
   "id": "2513a7ef-f889-4e7e-804a-67609b1e3d0e",
   "metadata": {},
   "source": [
    "To write and execute a Python script from the command line, follow these steps:\n",
    "\n",
    "1.) Open a text editor: Use a text editor of your choice to write your Python script. Create a new file with a .py extension. For example, script.py.\n",
    "\n",
    "2.) Write your Python code: Inside the text editor, write your Python code following the correct syntax. You can include import statements, variable declarations, function definitions, and any other necessary code.\n",
    "\n",
    "3.) Save the file: Save the file with the .py extension in a directory of your choice.\n",
    "\n",
    "4.) Open the command line: Open the command line or terminal on your operating system.\n",
    "\n",
    "5.) Navigate to the script's directory: Use the cd command to navigate to the directory where you saved your Python script.\n",
    "\n",
    "6.) Execute the Python script: To execute the Python script, type python followed by the name of the script file (including the extension) and press Enter.\n",
    "\n",
    "7.) View the output: The command line will execute the Python script, and if there is any output, it will be displayed in the command line."
   ]
  },
  {
   "cell_type": "markdown",
   "id": "b28dd7da-3890-465c-8996-377ea63f06c6",
   "metadata": {},
   "source": [
    "Q5. Given a list my_list = [1, 2, 3, 4, 5], write the code to slice the list and obtain the sub-list [2, 3]."
   ]
  },
  {
   "cell_type": "code",
   "execution_count": 7,
   "id": "43f4bb5e-2b23-4d90-afd8-5d0c98e01214",
   "metadata": {},
   "outputs": [
    {
     "name": "stdout",
     "output_type": "stream",
     "text": [
      "[2, 3]\n"
     ]
    }
   ],
   "source": [
    "my_list = [1, 2, 3, 4, 5]\n",
    "sub_list = my_list[1:3]\n",
    "\n",
    "print(sub_list)\n"
   ]
  },
  {
   "cell_type": "markdown",
   "id": "6fb300ed-4435-4a49-bb45-bc2857c3df2e",
   "metadata": {},
   "source": [
    "Q6. What is a complex number in mathematics, and how is it represented in Python?"
   ]
  },
  {
   "cell_type": "raw",
   "id": "09a75090-1b5f-4f60-ae5a-5568a7338002",
   "metadata": {},
   "source": [
    "In mathematics, a complex number is a number that consists of both a real part and an imaginary part. It is represented in the form a + bi, where a is the real part, b is the imaginary part, and i is the imaginary unit.\n",
    "\n",
    "In Python, complex numbers are supported as a built-in data type. They are represented using the complex class, and the imaginary part is denoted by the j suffix. The real and imaginary parts can be either integers or floating-point numbers."
   ]
  },
  {
   "cell_type": "markdown",
   "id": "b26eab75-05ae-4522-b5c2-71b545e3a414",
   "metadata": {},
   "source": [
    "Q7. What is the correct way to declare a variable named age and assign the value 25 to it?"
   ]
  },
  {
   "cell_type": "code",
   "execution_count": 9,
   "id": "dbd54943-bcf5-4df8-97e7-e832afac0963",
   "metadata": {},
   "outputs": [
    {
     "name": "stdout",
     "output_type": "stream",
     "text": [
      "25\n"
     ]
    }
   ],
   "source": [
    "age = 25\n",
    "print (age)\n"
   ]
  },
  {
   "cell_type": "markdown",
   "id": "8d141353-cd7c-4516-a852-59bc685162bf",
   "metadata": {},
   "source": [
    "Q8. Declare a variable named price and assign the value 9.99 to it. What data type does this variable\n",
    "belong to?"
   ]
  },
  {
   "cell_type": "code",
   "execution_count": 10,
   "id": "2c94260f-763b-4c6a-a4ac-59e6f78ca9eb",
   "metadata": {},
   "outputs": [
    {
     "name": "stdout",
     "output_type": "stream",
     "text": [
      "9.99 <class 'float'>\n"
     ]
    }
   ],
   "source": [
    "price = 9.99\n",
    "print(price , type(price))"
   ]
  },
  {
   "cell_type": "markdown",
   "id": "a108ce57-9171-4ecf-b13b-cd54df54ac3e",
   "metadata": {},
   "source": [
    "Q9. Create a variable named name and assign your full name to it as a string. How would you print the\n",
    "value of this variable?"
   ]
  },
  {
   "cell_type": "code",
   "execution_count": 12,
   "id": "d2112530-e39c-4a9b-8389-b57d33d719e4",
   "metadata": {},
   "outputs": [
    {
     "name": "stdout",
     "output_type": "stream",
     "text": [
      "Aarsh Hirenbhai Jani\n"
     ]
    }
   ],
   "source": [
    "name = 'Aarsh Hirenbhai Jani'\n",
    "print (name)"
   ]
  },
  {
   "cell_type": "markdown",
   "id": "34a40ece-622f-4fca-a86d-60fe69ecd5b6",
   "metadata": {},
   "source": [
    "Q10. Given the string \"Hello, World!\", extract the substring \"World\"."
   ]
  },
  {
   "cell_type": "code",
   "execution_count": 16,
   "id": "fe945362-1840-42f9-9fde-31131a18a6c9",
   "metadata": {},
   "outputs": [
    {
     "name": "stdout",
     "output_type": "stream",
     "text": [
      "World\n"
     ]
    }
   ],
   "source": [
    "string = \"Hello, World!\"\n",
    "substring = string[7:12]\n",
    "\n",
    "print(substring)\n"
   ]
  },
  {
   "cell_type": "markdown",
   "id": "0b24156d-a740-4281-a7a8-35196258d64d",
   "metadata": {},
   "source": []
  }
 ],
 "metadata": {
  "kernelspec": {
   "display_name": "Python 3 (ipykernel)",
   "language": "python",
   "name": "python3"
  },
  "language_info": {
   "codemirror_mode": {
    "name": "ipython",
    "version": 3
   },
   "file_extension": ".py",
   "mimetype": "text/x-python",
   "name": "python",
   "nbconvert_exporter": "python",
   "pygments_lexer": "ipython3",
   "version": "3.10.8"
  }
 },
 "nbformat": 4,
 "nbformat_minor": 5
}
