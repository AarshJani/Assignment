{
 "cells": [
  {
   "cell_type": "markdown",
   "id": "630defbe-810d-4f33-a8e1-b394e6f51ea6",
   "metadata": {},
   "source": [
    "Q1. Create one variable containing following type of data:\n",
    "(i) string\n",
    "(ii) list\n",
    "(iii) float\n",
    "(iv) tuple"
   ]
  },
  {
   "cell_type": "code",
   "execution_count": 10,
   "id": "5839644e-f13b-4dc1-a610-c772dc2598b6",
   "metadata": {},
   "outputs": [],
   "source": [
    "str  = \"Hello I Am Aarsh\"\n",
    "list = [2,5,3.14,'hi']\n",
    "float = 3.1456\n",
    "tuple = (1,3,2,4.77,'hello')\n"
   ]
  },
  {
   "cell_type": "markdown",
   "id": "a5e30bba-d112-417a-98de-4c023f21b793",
   "metadata": {},
   "source": [
    "Q2. Given are some following variables containing data:\n",
    "(i) var1 = ‘ ‘\n",
    "(ii) var2 = ‘[ DS , ML , Python]’\n",
    "(iii) var3 = [ ‘DS’ , ’ML’ , ‘Python’ ]\n",
    "(iv) var4 = 1.\n",
    "What will be the data type of the above given variable."
   ]
  },
  {
   "cell_type": "raw",
   "id": "4dd1967d-3974-4bef-8bbb-7597ed6ac6a6",
   "metadata": {},
   "source": [
    "ANSWERS q2:-\n",
    "i.) var1 = string\n",
    "ii.) var2 = string\n",
    "iii.) var3 = list\n",
    "iv.) var4 = float"
   ]
  },
  {
   "cell_type": "markdown",
   "id": "cae11c11-a977-4b42-9918-919339fefb88",
   "metadata": {},
   "source": [
    "Q3. Explain the use of the following operators using an example:\n",
    "(i) /\n",
    "(ii) %\n",
    "(iii) //\n",
    "(iv) **"
   ]
  },
  {
   "cell_type": "markdown",
   "id": "d69c2731-e8d9-4c5b-ae6a-a7a95f3a2391",
   "metadata": {},
   "source": [
    "i.) '/' is known as divison operator which is used for dividing numbers\n",
    "    eg. = result1 when 10 is divided by 3 we get quotient as 3.333\n",
    "    \n",
    "ii.) '%' is known as modulo operator which is used for finding remainder when two numbers are divided\n",
    "    eg. = result2 when 10 is divided by 3 we get remainder as 1\n",
    "    \n",
    "iii.) '//' is known as floor division operator which is used to perform division and return the floor value (rounded down to the nearest whole number) as the result. \n",
    "    eg. = result3 when 10 is divided by 3 we get remainder as 3.333 whose floor value is equal to 3\n",
    "     \n",
    "iv.) '**' is known as exponential operator which is used to raise a number to a power.\n",
    "    eg. = result4 when 10 to the power 3 is 1000"
   ]
  },
  {
   "cell_type": "code",
   "execution_count": 17,
   "id": "a00ae902-641a-4592-a041-bc0a070e0738",
   "metadata": {},
   "outputs": [
    {
     "name": "stdout",
     "output_type": "stream",
     "text": [
      "3.3333333333333335\n",
      "1\n",
      "3\n",
      "1000\n"
     ]
    }
   ],
   "source": [
    "x = 10\n",
    "y = 3\n",
    "result1 = x/y\n",
    "print (result1)\n",
    "\n",
    "result2 = x%y\n",
    "print (result2)\n",
    "\n",
    "result3 = x//y\n",
    "print (result3)\n",
    "\n",
    "result4 = x**y\n",
    "print(result4)"
   ]
  },
  {
   "cell_type": "markdown",
   "id": "125fda93-a211-440c-9eaa-a18a0b881c61",
   "metadata": {},
   "source": [
    "Q4. Create a list of length 10 of your choice containing multiple types of data. Using for loop print the\n",
    "element and its data type."
   ]
  },
  {
   "cell_type": "code",
   "execution_count": 27,
   "id": "29663017-c805-4b2a-a183-aa449cc997c3",
   "metadata": {},
   "outputs": [
    {
     "name": "stdout",
     "output_type": "stream",
     "text": [
      "Element: 10\n",
      "Data Type: <class 'int'>\n",
      "\n",
      "Element: Hello\n",
      "Data Type: <class 'str'>\n",
      "\n",
      "Element: 3.14\n",
      "Data Type: <class 'float'>\n",
      "\n",
      "Element: True\n",
      "Data Type: <class 'bool'>\n",
      "\n",
      "Element: [1, 2, 3]\n",
      "Data Type: <class 'list'>\n",
      "\n",
      "Element: {'name': 'Aarsh', 'age': 19}\n",
      "Data Type: <class 'dict'>\n",
      "\n",
      "Element: ('a', 'b', 'c')\n",
      "Data Type: <class 'tuple'>\n",
      "\n",
      "Element: None\n",
      "Data Type: <class 'NoneType'>\n",
      "\n",
      "Element: (5+2j)\n",
      "Data Type: <class 'complex'>\n",
      "\n",
      "Element: False\n",
      "Data Type: <class 'bool'>\n",
      "\n"
     ]
    }
   ],
   "source": [
    "my_list = [10, \"Hello\", 3.14, True, [1, 2, 3], {\"name\": \"Aarsh\", \"age\": 19}, ('a', 'b', 'c'), None, 5 + 2j, False]\n",
    "\n",
    "for element in my_list:\n",
    "    print(\"Element:\", element)\n",
    "    print(\"Data Type:\", type(element))\n",
    "    print()\n"
   ]
  },
  {
   "cell_type": "markdown",
   "id": "3076412b-0511-443d-8903-f422eaea1b79",
   "metadata": {},
   "source": [
    "Q5. Using a while loop, verify if the number A is purely divisible by number B and if so then how many\n",
    "times it can be divisible."
   ]
  },
  {
   "cell_type": "code",
   "execution_count": 22,
   "id": "fbb17c6e-2af5-4979-99e1-f7c0ba5e2c73",
   "metadata": {},
   "outputs": [
    {
     "name": "stdout",
     "output_type": "stream",
     "text": [
      "Number A can be divided by number B 2 times.\n"
     ]
    }
   ],
   "source": [
    "A = 100\n",
    "B = 5\n",
    "count = 0\n",
    "\n",
    "while A % B == 0:\n",
    "    A = A // B\n",
    "    count = count + 1\n",
    "\n",
    "print(f\"Number A can be divided by number B {count} times.\")\n"
   ]
  },
  {
   "cell_type": "markdown",
   "id": "e22606ae-4e45-4009-b4b7-244a6854ae3b",
   "metadata": {},
   "source": [
    "Q6. Create a list containing 25 int type data. Using for loop and if-else condition print if the element is\n",
    "divisible by 3 or not."
   ]
  },
  {
   "cell_type": "code",
   "execution_count": 23,
   "id": "7d87cdaa-cb51-4739-acff-d479d794388d",
   "metadata": {},
   "outputs": [
    {
     "name": "stdout",
     "output_type": "stream",
     "text": [
      "12 is divisible by 3.\n",
      "7 is not divisible by 3.\n",
      "18 is divisible by 3.\n",
      "9 is divisible by 3.\n",
      "5 is not divisible by 3.\n",
      "21 is divisible by 3.\n",
      "15 is divisible by 3.\n",
      "4 is not divisible by 3.\n",
      "27 is divisible by 3.\n",
      "36 is divisible by 3.\n",
      "14 is not divisible by 3.\n",
      "10 is not divisible by 3.\n",
      "33 is divisible by 3.\n",
      "8 is not divisible by 3.\n",
      "22 is not divisible by 3.\n",
      "30 is divisible by 3.\n",
      "16 is not divisible by 3.\n",
      "20 is not divisible by 3.\n",
      "11 is not divisible by 3.\n",
      "25 is not divisible by 3.\n",
      "6 is divisible by 3.\n",
      "19 is not divisible by 3.\n",
      "13 is not divisible by 3.\n",
      "24 is divisible by 3.\n",
      "32 is not divisible by 3.\n"
     ]
    }
   ],
   "source": [
    "my_list = [12, 7, 18, 9, 5, 21, 15, 4, 27, 36, 14, 10, 33, 8, 22, 30, 16, 20, 11, 25, 6, 19, 13, 24, 32]\n",
    "\n",
    "for element in my_list:\n",
    "    if element % 3 == 0:\n",
    "        print(f\"{element} is divisible by 3.\")\n",
    "    else:\n",
    "        print(f\"{element} is not divisible by 3.\")\n"
   ]
  },
  {
   "cell_type": "markdown",
   "id": "fe7b842f-d30a-4236-97ef-9422027d3688",
   "metadata": {},
   "source": [
    "Q7. What do you understand about mutable and immutable data types? Give examples for both showing\n",
    "this property."
   ]
  },
  {
   "cell_type": "markdown",
   "id": "120e1a5a-85b5-4235-9424-2cf7fc238c2c",
   "metadata": {},
   "source": [
    "Mutable data types, are those whose values can be modified after they are created.\n",
    "eg list\n",
    "Immutable data types are those whose values cannot be modified after they are created.\n",
    "eg string"
   ]
  },
  {
   "cell_type": "code",
   "execution_count": 24,
   "id": "54a19f3b-75df-476e-9171-ccd195e5f2af",
   "metadata": {},
   "outputs": [
    {
     "name": "stdout",
     "output_type": "stream",
     "text": [
      "[10, 2, 3]\n"
     ]
    }
   ],
   "source": [
    "numbers = [1, 2, 3]\n",
    "# Modifying the list\n",
    "numbers[0] = 10\n",
    "print(numbers)  \n"
   ]
  },
  {
   "cell_type": "code",
   "execution_count": 28,
   "id": "ca5196f9-c667-4408-b84e-08654205740b",
   "metadata": {},
   "outputs": [
    {
     "ename": "TypeError",
     "evalue": "'str' object does not support item assignment",
     "output_type": "error",
     "traceback": [
      "\u001b[0;31m---------------------------------------------------------------------------\u001b[0m",
      "\u001b[0;31mTypeError\u001b[0m                                 Traceback (most recent call last)",
      "Cell \u001b[0;32mIn[28], line 3\u001b[0m\n\u001b[1;32m      1\u001b[0m name \u001b[38;5;241m=\u001b[39m \u001b[38;5;124m\"\u001b[39m\u001b[38;5;124mAarsh\u001b[39m\u001b[38;5;124m\"\u001b[39m\n\u001b[1;32m      2\u001b[0m \u001b[38;5;66;03m# Trying to modify the string\u001b[39;00m\n\u001b[0;32m----> 3\u001b[0m \u001b[43mname\u001b[49m\u001b[43m[\u001b[49m\u001b[38;5;241;43m0\u001b[39;49m\u001b[43m]\u001b[49m \u001b[38;5;241m=\u001b[39m \u001b[38;5;124m\"\u001b[39m\u001b[38;5;124mB\u001b[39m\u001b[38;5;124m\"\u001b[39m  \n",
      "\u001b[0;31mTypeError\u001b[0m: 'str' object does not support item assignment"
     ]
    }
   ],
   "source": [
    "name = \"Aarsh\"\n",
    "# Trying to modify the string\n",
    "name[0] = \"B\"  \n"
   ]
  },
  {
   "cell_type": "code",
   "execution_count": null,
   "id": "689534bc-b1f8-4fec-af37-b562fc436141",
   "metadata": {},
   "outputs": [],
   "source": []
  }
 ],
 "metadata": {
  "kernelspec": {
   "display_name": "Python 3 (ipykernel)",
   "language": "python",
   "name": "python3"
  },
  "language_info": {
   "codemirror_mode": {
    "name": "ipython",
    "version": 3
   },
   "file_extension": ".py",
   "mimetype": "text/x-python",
   "name": "python",
   "nbconvert_exporter": "python",
   "pygments_lexer": "ipython3",
   "version": "3.10.8"
  }
 },
 "nbformat": 4,
 "nbformat_minor": 5
}
